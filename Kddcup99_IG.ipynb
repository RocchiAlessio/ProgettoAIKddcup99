{
 "cells": [
  {
   "cell_type": "code",
   "execution_count": 1,
   "metadata": {},
   "outputs": [],
   "source": [
    "import pandas as pd\n",
    "import numpy as np\n",
    "import time as ti\n",
    "from numpy import random\n",
    "from sklearn.preprocessing import LabelEncoder\n",
    "from sklearn.ensemble import RandomForestClassifier\n",
    "from sklearn.model_selection import train_test_split \n",
    "from sklearn.preprocessing import OneHotEncoder\n",
    "from sklearn.compose import make_column_transformer\n",
    "from sklearn.pipeline import make_pipeline"
   ]
  },
  {
   "cell_type": "code",
   "execution_count": 2,
   "metadata": {},
   "outputs": [
    {
     "data": {
      "text/plain": [
       "17.484375"
      ]
     },
     "execution_count": 2,
     "metadata": {},
     "output_type": "execute_result"
    }
   ],
   "source": [
    "kddcup99 = pd.read_csv('kddcup.data.corrected')\n",
    "\n",
    "columns = ['duration', 'protocol_type', 'service', 'flag', 'src_bytes', 'dest_bytes', 'land', 'wrong_fragment', 'urgent', 'hot', 'failed_logins', 'logged_in', 'num_compromised', 'root_shell', 'su_attempted', 'num_root', 'num_file_creations', 'num_shell', 'num_access_files', 'num_outbound_cdms', 'is_hot_login', 'is_guest_login', 'Count', 'svr_count', 'serror_rate', 'svr_error_rate', 'rerror_rate', 'svr_rerror_rate', 'same_svr_rate', 'diff_svr_rate', 'svr_diff_host_rate', 'dst_host_count', 'dst_host_svr_count', 'dst_host_same_svr_rate', 'dst_host_diff_svr_rate', 'dst_host_same_src_port_rate', 'dst_host_svr_diff_host_rate', 'dst_host_serror_rate', 'dst_host_svr_serror_rate', 'dst_host_rerror_rate', 'dst_host_svr_rerror_rate', 'conn_type']\n",
    "kddcup99.columns = columns\n",
    "\n",
    "\n",
    "kddcup99 = kddcup99.drop(['num_compromised','su_attempted','num_file_creations','num_outbound_cdms','is_hot_login','is_guest_login','dst_host_rerror_rate'], axis=1)\n",
    "# Toglie dal dataframe le colonne che poco rilevanti allo scopo\n",
    "\n",
    "ti.process_time()\n",
    "# stampa il tempo totale del processo fino a questo punto"
   ]
  },
  {
   "cell_type": "code",
   "execution_count": 3,
   "metadata": {},
   "outputs": [
    {
     "data": {
      "text/plain": [
       "(4898430, 35)"
      ]
     },
     "execution_count": 3,
     "metadata": {},
     "output_type": "execute_result"
    }
   ],
   "source": [
    "kddcup99.shape"
   ]
  },
  {
   "cell_type": "code",
   "execution_count": 4,
   "metadata": {},
   "outputs": [],
   "source": [
    "X2 = kddcup99.drop('conn_type', axis=1)\n",
    "y2 = kddcup99.conn_type"
   ]
  },
  {
   "cell_type": "code",
   "execution_count": 5,
   "metadata": {},
   "outputs": [
    {
     "data": {
      "text/plain": [
       "31.046875"
      ]
     },
     "execution_count": 5,
     "metadata": {},
     "output_type": "execute_result"
    }
   ],
   "source": [
    "column_trans2 = make_column_transformer((OneHotEncoder(), ['protocol_type','service','flag',]), remainder='passthrough')\n",
    "X2_discretized = column_trans2.fit_transform(X2)\n",
    "\n",
    "ti.process_time()\n",
    "# stampa il tempo totale del processo fino a questo punto"
   ]
  },
  {
   "cell_type": "code",
   "execution_count": 6,
   "metadata": {},
   "outputs": [],
   "source": [
    "le2 = LabelEncoder()\n",
    "y2_discretized = le2.fit_transform(y2)"
   ]
  },
  {
   "cell_type": "code",
   "execution_count": 7,
   "metadata": {},
   "outputs": [
    {
     "data": {
      "text/plain": [
       "35.046875"
      ]
     },
     "execution_count": 7,
     "metadata": {},
     "output_type": "execute_result"
    }
   ],
   "source": [
    "size_test = 0.1\n",
    "X2_train_discretized, X2_test_discretized, y2_train_discretized, y2_test_discretized = train_test_split(X2_discretized, y2_discretized, test_size = size_test, random_state=59)\n",
    "\n",
    "ti.process_time()\n",
    "# stampa il tempo totale del processo fino a questo punto"
   ]
  },
  {
   "cell_type": "code",
   "execution_count": 8,
   "metadata": {},
   "outputs": [
    {
     "data": {
      "text/plain": [
       "209.734375"
      ]
     },
     "execution_count": 8,
     "metadata": {},
     "output_type": "execute_result"
    }
   ],
   "source": [
    "rfc = RandomForestClassifier(criterion=\"entropy\", n_estimators=1)\n",
    "rfc.fit(X2_train_discretized, y2_train_discretized)\n",
    "\n",
    "ti.process_time()\n",
    "# stampa il tempo totale del processo fino a questo punto"
   ]
  },
  {
   "cell_type": "code",
   "execution_count": 9,
   "metadata": {},
   "outputs": [
    {
     "data": {
      "text/plain": [
       "0.9999571291209632"
      ]
     },
     "execution_count": 9,
     "metadata": {},
     "output_type": "execute_result"
    }
   ],
   "source": [
    "rfc.score(X2_test_discretized, y2_test_discretized)"
   ]
  },
  {
   "cell_type": "code",
   "execution_count": 10,
   "metadata": {},
   "outputs": [
    {
     "name": "stdout",
     "output_type": "stream",
     "text": [
      "2877713\n",
      "  (0, 0)\t1.0\n",
      "  (0, 18)\t1.0\n",
      "  (0, 82)\t1.0\n",
      "  (0, 85)\t1032.0\n",
      "  (0, 97)\t511.0\n",
      "  (0, 98)\t511.0\n",
      "  (0, 103)\t1.0\n",
      "  (0, 106)\t255.0\n",
      "  (0, 107)\t255.0\n",
      "  (0, 108)\t1.0\n",
      "  (0, 110)\t1.0\n",
      "['smurf.']\n"
     ]
    }
   ],
   "source": [
    "i = random.randint(4898430)\n",
    "print(i)\n",
    "print(X2_discretized[[i]])\n",
    "predict = rfc.predict(X2_discretized[[i]])\n",
    "prediction = le2.inverse_transform(predict)\n",
    "print(prediction)"
   ]
  },
  {
   "cell_type": "code",
   "execution_count": null,
   "metadata": {},
   "outputs": [],
   "source": []
  }
 ],
 "metadata": {
  "kernelspec": {
   "display_name": "Python 3",
   "language": "python",
   "name": "python3"
  },
  "language_info": {
   "codemirror_mode": {
    "name": "ipython",
    "version": 3
   },
   "file_extension": ".py",
   "mimetype": "text/x-python",
   "name": "python",
   "nbconvert_exporter": "python",
   "pygments_lexer": "ipython3",
   "version": "3.8.5"
  }
 },
 "nbformat": 4,
 "nbformat_minor": 4
}
